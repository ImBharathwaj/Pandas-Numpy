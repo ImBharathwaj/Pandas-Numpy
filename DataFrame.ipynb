{
 "cells": [
  {
   "cell_type": "code",
   "execution_count": null,
   "id": "64d31c1a-8775-4d9c-aeda-25d1e42d0b42",
   "metadata": {},
   "outputs": [],
   "source": [
    "import pandas as pd\n",
    "\n",
    "data = {\n",
    "    'calories': [420, 380, 390],\n",
    "    'duration': [50, 40, 45]\n",
    "}\n",
    "\n",
    "# load data into a dataframe object:\n",
    "df = pd.DataFrame(data)\n",
    "print(df)"
   ]
  },
  {
   "cell_type": "markdown",
   "id": "9c69f501-af12-4314-91fd-9025bf91581e",
   "metadata": {},
   "source": [
    "Locale Row\n",
    "used to locate single column using it's index"
   ]
  },
  {
   "cell_type": "code",
   "execution_count": null,
   "id": "011efde5-a6c5-479f-8c0b-81c2fbe5bbf3",
   "metadata": {},
   "outputs": [],
   "source": [
    "import pandas as pd\n",
    "account_info = pd.DataFrame({\n",
    "    \"name\": [\"Bob\", \"Mary\", \"Mita\"],\n",
    "    \"account\": [123456, 123467, 347576],\n",
    "    \"balance\": [123, 3972, 7209]\n",
    "})\n",
    "\n",
    "print(account_info[['name','account']])\n",
    "\n",
    "# To get the data by column with an index of the dataframe\n",
    "# To get the data by column data column by slice\n",
    "# To get the all the column use colon simply [:] with iloc function\n",
    "account_info.iloc[1]\n",
    "account_info.iloc[0:2]"
   ]
  },
  {
   "cell_type": "code",
   "execution_count": null,
   "id": "e87e28e6-2908-4f46-8e37-0bbc16f9a2c9",
   "metadata": {},
   "outputs": [],
   "source": [
    "# To just get the data exactly single information \n",
    "# based on the column and row index use comma ',' instead \n",
    "# of colon ':'\n",
    "account_info.iloc[1,2]\n",
    "\n",
    "# We can assign values to the dataframe\n",
    "# exactly to the dataframe cell\n",
    "account_info.iloc[1, 2] = 4000\n",
    "account_info.iloc[1, 2]\n",
    "\n",
    "# We can make decisions within the iloc function\n",
    "account_info.iloc[account_info.index%2 != 1]\n",
    "account_info"
   ]
  }
 ],
 "metadata": {
  "kernelspec": {
   "display_name": "Python 3 (ipykernel)",
   "language": "python",
   "name": "python3"
  },
  "language_info": {
   "codemirror_mode": {
    "name": "ipython",
    "version": 3
   },
   "file_extension": ".py",
   "mimetype": "text/x-python",
   "name": "python",
   "nbconvert_exporter": "python",
   "pygments_lexer": "ipython3",
   "version": "3.9.7"
  }
 },
 "nbformat": 4,
 "nbformat_minor": 5
}
