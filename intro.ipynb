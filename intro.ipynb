{
 "cells": [
  {
   "cell_type": "code",
   "execution_count": 1,
   "id": "d066bd21-e628-4c9e-bf5f-d565c22fe703",
   "metadata": {},
   "outputs": [
    {
     "name": "stdout",
     "output_type": "stream",
     "text": [
      "  user_first_name user_last_name                 user_email_id user_role  created_dt\n",
      "0          Gordan        Bradock  gbradock0@barnesandnoble.com         A  2020-01-10\n",
      "1            Tobe         Lyness      tlyness1@paginegialle.it         U  2020-02-10\n",
      "2           Addie         Mesias          amesias2@twitpic.com         U  2020-03-05\n",
      "3          Corene        Kohrsen        ckohrsen3@buzzfeed.com         U  2020-04-15\n",
      "4          Darill        Halsall           dhalsall4@intel.com         U  2020-10-10\n"
     ]
    }
   ],
   "source": [
    "import pandas as pd\n",
    "df = pd.read_csv('users.csv')\n",
    "print(df.to_string())"
   ]
  },
  {
   "cell_type": "code",
   "execution_count": 2,
   "id": "76b04075-6f9f-4c5c-98b7-1cb7c8dd92a7",
   "metadata": {},
   "outputs": [
    {
     "name": "stdout",
     "output_type": "stream",
     "text": [
      "    cars  passage\n",
      "0    BMW        3\n",
      "1  Volvo        7\n",
      "2   Ford        2\n"
     ]
    }
   ],
   "source": [
    "mydataset = {\n",
    "    'cars': ['BMW', 'Volvo', 'Ford'],\n",
    "    'passage': [3, 7, 2]\n",
    "}\n",
    "\n",
    "myvar = pd.DataFrame(mydataset)\n",
    "\n",
    "print(myvar)"
   ]
  },
  {
   "cell_type": "code",
   "execution_count": 3,
   "id": "09c93bec-734b-4647-a2ce-530adc51d729",
   "metadata": {},
   "outputs": [
    {
     "name": "stdout",
     "output_type": "stream",
     "text": [
      "1.3.4\n"
     ]
    }
   ],
   "source": [
    "print(pd.__version__)"
   ]
  }
 ],
 "metadata": {
  "kernelspec": {
   "display_name": "Python 3 (ipykernel)",
   "language": "python",
   "name": "python3"
  },
  "language_info": {
   "codemirror_mode": {
    "name": "ipython",
    "version": 3
   },
   "file_extension": ".py",
   "mimetype": "text/x-python",
   "name": "python",
   "nbconvert_exporter": "python",
   "pygments_lexer": "ipython3",
   "version": "3.9.7"
  }
 },
 "nbformat": 4,
 "nbformat_minor": 5
}
